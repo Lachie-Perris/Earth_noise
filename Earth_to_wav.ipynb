{
 "cells": [
  {
   "cell_type": "markdown",
   "metadata": {},
   "source": [
    "# This notebook will turn a csv into a wav file\n",
    "\n",
    "Use it to hear the unheard "
   ]
  },
  {
   "cell_type": "code",
   "execution_count": 7,
   "metadata": {},
   "outputs": [],
   "source": [
    "# Add the path to your csv file above. Make sure csv files have the data that you want to hear in the first and second columns\n",
    "\n",
    "\n",
    "#your_csv_file = (r'path\\to\\file.csv')\n",
    "\n",
    "#Name your new music file:\n",
    "\n",
    "new_file_name = ('001')\n"
   ]
  },
  {
   "cell_type": "code",
   "execution_count": 137,
   "metadata": {},
   "outputs": [],
   "source": [
    "import pandas as pd\n",
    "import numpy as np\n",
    "import soundfile as sf\n",
    "from scipy import signal\n",
    "import matplotlib.pyplot as plt\n",
    "\n",
    "\n",
    "\n",
    "def import_profile(SaG_Profile, usecols = True):\n",
    "    data = pd.read_csv(SaG_Profile, header =0, usecols = (0,1), names = ('time','value'))\n",
    "    data['value'].astype('float32')\n",
    "    data['time'].astype('float32')\n",
    "    return data\n",
    "\n",
    "df = import_profile(your_csv_file)\n",
    "\n",
    "\n",
    "def make_it_wav(df, detrend = True):\n",
    "    \n",
    "    if detrend:\n",
    "        df['value'] = signal.detrend(df.value, type == 'constant')\n",
    "        df['value'] =   ( df['value'])\n",
    "    df['value'] =  ((df['value'] - np.mean(df['value'])))\n",
    "\n",
    "    # compute sample rate, assuming times are in seconds\n",
    "    times = df['time'].values\n",
    "    \n",
    "    n_measurements = (len(times))\n",
    "    timespan_seconds = times[-1] - times[0]\n",
    "    #timespan_seconds = 7\n",
    "    sample_rate_hz = int(1000)\n",
    "    #sample_rate_hz = int(n_measurements / timespan_seconds)\n",
    "\n",
    "    # write data\n",
    "    data = df['value'].values\n",
    "    \n",
    "\n",
    "    sf.write('recording_%s.wav' %(new_file_name), data, sample_rate_hz)\n",
    "    \n",
    "    \n",
    "def plot_profile(data):   \n",
    "    x = data.time        \n",
    "    y = data.value\n",
    "    fig, ax1 = plt.subplots(figsize=(20,5))\n",
    "    plt.title('Coral forereef alongshore profile')\n",
    "    plt.ylabel('Elevation (m)')\n",
    "    ax1.plot(x, y, linewidth=2, color = 'blue', label = 'profile')\n",
    "    ax1.legend()\n",
    "    plt.grid()\n",
    "    plt.savefig('profile_%s.png' %(new_file_name))\n",
    "    return \n"
   ]
  },
  {
   "cell_type": "code",
   "execution_count": null,
   "metadata": {},
   "outputs": [],
   "source": [
    "plot_profile(df)\n",
    "make_it_wav(df, detrend = True)\n"
   ]
  }
 ],
 "metadata": {
  "kernelspec": {
   "display_name": "Python 3",
   "language": "python",
   "name": "python3"
  },
  "language_info": {
   "codemirror_mode": {
    "name": "ipython",
    "version": 3
   },
   "file_extension": ".py",
   "mimetype": "text/x-python",
   "name": "python",
   "nbconvert_exporter": "python",
   "pygments_lexer": "ipython3",
   "version": "3.6.9"
  }
 },
 "nbformat": 4,
 "nbformat_minor": 2
}
